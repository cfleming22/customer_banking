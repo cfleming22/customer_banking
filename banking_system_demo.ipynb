{
 "cells": [
  {
   "cell_type": "markdown",
   "metadata": {},
   "source": [
    "# Customer Banking System Demo\n",
    "\n",
    "This notebook demonstrates the functionality of the customer banking system that calculates interest earned on savings and CD accounts.\n",
    "\n",
    "## Components\n",
    "\n",
    "1. `Account.py` - Base class for account management\n",
    "2. `savings_account.py` - Handles savings account operations\n",
    "3. `cd_account.py` - Handles CD account operations\n",
    "4. `customer_banking.py` - Main interface for user interaction\n",
    "\n",
    "## Implementation Details\n",
    "\n",
    "- Interest is calculated using monthly rate (APR/12)\n",
    "- All monetary values are formatted to 2 decimal places\n",
    "- Input validation is included to handle invalid entries"
   ]
  },
  {
   "cell_type": "markdown",
   "metadata": {},
   "source": [
    "## Import Required Modules"
   ]
  },
  {
   "cell_type": "code",
   "execution_count": null,
   "metadata": {},
   "outputs": [],
   "source": [
    "from Account import Account\n",
    "from savings_account import create_savings_account\n",
    "from cd_account import create_cd_account"
   ]
  },
  {
   "cell_type": "markdown",
   "metadata": {},
   "source": [
    "## Test Savings Account"
   ]
  },
  {
   "cell_type": "code",
   "execution_count": null,
   "metadata": {},
   "outputs": [],
   "source": [
    "# Example values\n",
    "savings_balance = 1000.00\n",
    "savings_interest = 5.0  # 5% APR\n",
    "savings_months = 12\n",
    "\n",
    "# Calculate interest and get updated balance\n",
    "updated_savings_balance, savings_interest_earned = create_savings_account(\n",
    "    savings_balance, savings_interest, savings_months\n",
    ")\n",
    "\n",
    "print(f\"Savings Account Test:\")\n",
    "print(f\"Initial balance: ${savings_balance:,.2f}\")\n",
    "print(f\"Interest rate (APR): {savings_interest}%\")\n",
    "print(f\"Time period: {savings_months} months\")\n",
    "print(f\"Interest earned: ${savings_interest_earned:,.2f}\")\n",
    "print(f\"Final balance: ${updated_savings_balance:,.2f}\")"
   ]
  },
  {
   "cell_type": "markdown",
   "metadata": {},
   "source": [
    "## Test CD Account"
   ]
  },
  {
   "cell_type": "code",
   "execution_count": null,
   "metadata": {},
   "outputs": [],
   "source": [
    "# Example values\n",
    "cd_balance = 5000.00\n",
    "cd_interest = 0.07  # 0.07% APR\n",
    "cd_months = 24\n",
    "\n",
    "# Calculate interest and get updated balance\n",
    "updated_cd_balance, cd_interest_earned = create_cd_account(\n",
    "    cd_balance, cd_interest, cd_months\n",
    ")\n",
    "\n",
    "print(f\"CD Account Test:\")\n",
    "print(f\"Initial balance: ${cd_balance:,.2f}\")\n",
    "print(f\"Interest rate (APR): {cd_interest}%\")\n",
    "print(f\"Time period: {cd_months} months\")\n",
    "print(f\"Interest earned: ${cd_interest_earned:,.2f}\")\n",
    "print(f\"Final balance: ${updated_cd_balance:,.2f}\")"
   ]
  },
  {
   "cell_type": "markdown",
   "metadata": {},
   "source": [
    "## Verification\n",
    "\n",
    "To verify the calculations:\n",
    "\n",
    "1. Monthly interest rate = APR / 12 / 100\n",
    "2. Interest earned = Initial Balance × Monthly Rate × Number of Months\n",
    "3. Final Balance = Initial Balance + Interest Earned\n",
    "\n",
    "For example, with the savings account test above:\n",
    "- Monthly rate = 5% / 12 = 0.417% = 0.00417\n",
    "- Interest = $1000 × 0.00417 × 12 = $50.00\n",
    "- Final balance = $1000 + $50.00 = $1050.00"
   ]
  }
 ],
 "metadata": {
  "kernelspec": {
   "display_name": "Python 3",
   "language": "python",
   "name": "python3"
  },
  "language_info": {
   "codemirror_mode": {
    "name": "ipython",
    "version": 3
   },
   "file_extension": ".py",
   "mimetype": "text/x-python",
   "name": "python",
   "nbconvert_exporter": "python",
   "pygments_lexer": "ipython3",
   "version": "3.8.5"
  }
 },
 "nbformat": 4,
 "nbformat_minor": 4
}
